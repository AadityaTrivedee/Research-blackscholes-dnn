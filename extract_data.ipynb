{
 "cells": [
  {
   "cell_type": "code",
   "execution_count": 7,
   "metadata": {},
   "outputs": [],
   "source": [
    "import pandas as pd\n",
    "import os\n",
    "import yfinance as yf\n",
    "import numpy as np\n",
    "from scipy.stats import norm\n",
    "import datetime"
   ]
  },
  {
   "cell_type": "code",
   "execution_count": 8,
   "metadata": {},
   "outputs": [
    {
     "name": "stderr",
     "output_type": "stream",
     "text": [
      "/var/folders/8j/kzmsmn5s4b3d1xt9pyn9zkp80000gn/T/ipykernel_33736/1084391196.py:19: SettingWithCopyWarning: \n",
      "A value is trying to be set on a copy of a slice from a DataFrame\n",
      "\n",
      "See the caveats in the documentation: https://pandas.pydata.org/pandas-docs/stable/user_guide/indexing.html#returning-a-view-versus-a-copy\n",
      "  puts.rename(columns={\"lastPrice\": \"PutPrice\"}, inplace=True)\n",
      "/var/folders/8j/kzmsmn5s4b3d1xt9pyn9zkp80000gn/T/ipykernel_33736/1084391196.py:20: SettingWithCopyWarning: \n",
      "A value is trying to be set on a copy of a slice from a DataFrame\n",
      "\n",
      "See the caveats in the documentation: https://pandas.pydata.org/pandas-docs/stable/user_guide/indexing.html#returning-a-view-versus-a-copy\n",
      "  calls.rename(columns={\"lastPrice\": \"CallPrice\"}, inplace=True)\n",
      "[*********************100%***********************]  1 of 1 completed\n"
     ]
    }
   ],
   "source": [
    "ticker = 'NVDA'\n",
    "stock = yf.Ticker(ticker)\n",
    "expiration_date = '2027-01-15' \n",
    "\n",
    "# Get current price\n",
    "S = stock.history(period=\"1d\")['Close'].iloc[-1]\n",
    "\n",
    "# Get the options chain for the specified expiration date\n",
    "options = stock.option_chain(expiration_date)\n",
    "calls = options.calls\n",
    "puts = options.puts\n",
    "\n",
    "calls[\"OptionType\"] = \"Call\"\n",
    "puts[\"OptionType\"] = \"Put\"\n",
    "\n",
    "calls = calls[[\"strike\", \"lastPrice\", \"inTheMoney\"]]\n",
    "puts = puts[[\"strike\", \"lastPrice\", \"inTheMoney\"]]\n",
    "\n",
    "puts.rename(columns={\"lastPrice\": \"PutPrice\"}, inplace=True)\n",
    "calls.rename(columns={\"lastPrice\": \"CallPrice\"}, inplace=True)\n",
    "\n",
    "options = pd.merge(calls, puts, on=\"strike\", how=\"outer\")\n",
    "\n",
    "expiration = datetime.datetime.strptime(expiration_date, '%Y-%m-%d')\n",
    "today = datetime.datetime.today()\n",
    "T = (expiration - today).days / 365.25\n",
    "\n",
    "r = 0.0422\n",
    "\n",
    "# Estimate volatility using historical data (annualized)\n",
    "hist = yf.download(ticker, period=\"1y\")\n",
    "hist['returns'] = np.log(hist['Close'] / hist['Close'].shift(1))\n",
    "sigma = np.std(hist['returns'].dropna()) * np.sqrt(252)\n",
    "\n",
    "options[\"Stock_Price\"] = S\n",
    "options[\"Time_to_Expire\"] = T\n",
    "options[\"Risk_Free_Rate\"] = r\n",
    "options[\"IV\"] = sigma\n",
    "\n",
    "# Save to CSV for analysis\n",
    "csv_file = \"nvda_options_data.csv\"\n",
    "if not os.path.isfile(csv_file):\n",
    "    options.to_csv(csv_file, index=False)\n",
    "else:\n",
    "    options.to_csv(csv_file, mode='a', header=False, index=False)\n",
    "\n"
   ]
  }
 ],
 "metadata": {
  "kernelspec": {
   "display_name": "Python 3",
   "language": "python",
   "name": "python3"
  },
  "language_info": {
   "codemirror_mode": {
    "name": "ipython",
    "version": 3
   },
   "file_extension": ".py",
   "mimetype": "text/x-python",
   "name": "python",
   "nbconvert_exporter": "python",
   "pygments_lexer": "ipython3",
   "version": "3.10.16"
  }
 },
 "nbformat": 4,
 "nbformat_minor": 2
}
